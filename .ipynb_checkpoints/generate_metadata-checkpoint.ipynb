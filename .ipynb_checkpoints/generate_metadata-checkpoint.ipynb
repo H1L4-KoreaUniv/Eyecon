{
 "cells": [
  {
   "cell_type": "code",
   "execution_count": 65,
   "metadata": {},
   "outputs": [],
   "source": [
    "import numpy as np\n",
    "import _pickle as pkl\n",
    "import os\n",
    "import json\n",
    "from collections import OrderedDict\n",
    "\n",
    "path_dir = 'C:/Users/JIWON/Downloads/temp'\n",
    "file_list = os.listdir(path_dir)\n",
    "\n",
    "data = []\n",
    "for i in file_list:\n",
    "    file_data = OrderedDict()\n",
    "    file_data['file_name'] = i\n",
    "    file_data['label'] = i[0]\n",
    "    data.append(file_data)\n",
    "data\n",
    "data_dict = {}\n",
    "data_dict['data'] = data\n",
    "data_dict\n",
    "\n",
    "# print(json.dumps(data_dict, ensure_ascii=False, indent='\\t'))\n",
    "\n",
    "with open('C:/Users/JIWON/Downloads/temp/temp.json', 'w', encoding='utf-8') as make_file:\n",
    "    json.dump(data_dict, make_file, ensure_ascii=False, indent='\\t')"
   ]
  }
 ],
 "metadata": {
  "kernelspec": {
   "display_name": "Python 3",
   "language": "python",
   "name": "python3"
  },
  "language_info": {
   "codemirror_mode": {
    "name": "ipython",
    "version": 3
   },
   "file_extension": ".py",
   "mimetype": "text/x-python",
   "name": "python",
   "nbconvert_exporter": "python",
   "pygments_lexer": "ipython3",
   "version": "3.7.7"
  }
 },
 "nbformat": 4,
 "nbformat_minor": 4
}
